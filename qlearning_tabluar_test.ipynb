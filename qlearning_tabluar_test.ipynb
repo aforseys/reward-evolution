{
 "cells": [
  {
   "cell_type": "code",
   "execution_count": 1,
   "id": "5a428c80",
   "metadata": {},
   "outputs": [],
   "source": [
    "import reward_machines\n",
    "import gymnasium \n",
    "from reward_machines.envs.grids.grid_world import *\n",
    "from reward_machines.reward_machines.rm_environment import RewardMachineWrapper\n",
    "from reward_machines.rl_agents.qlearning_tabular.qlearning_tabular import q_learning_tabular"
   ]
  },
  {
   "cell_type": "code",
   "execution_count": 19,
   "id": "5e058de7",
   "metadata": {},
   "outputs": [
    {
     "name": "stdout",
     "output_type": "stream",
     "text": [
      "map size: 5x5\n",
      "[['a' '.' '.' '.' '.']\n",
      " ['.' '.' '.' '.' '.']\n",
      " ['.' 'h' '.' '.' '.']\n",
      " ['.' '.' '.' '.' '.']\n",
      " ['.' '.' 'B' '.' '.']]\n"
     ]
    }
   ],
   "source": [
    "#Make RMEnv (debugging in environment_test.ipynb)\n",
    "rm_files = [\"./reward_machines/envs/grids/reward_machines/rm1.txt\"]\n",
    "map_file = \"./reward_machines/envs/grids/maps/map0_w_hazard.txt\"\n",
    "test_env = ObstacleRMEnv(rm_files, map_file)\n",
    "\n",
    "#Make RMEnv wrapper that generates counterfactual experience for each step\n",
    "test_crm_env = RewardMachineWrapper(test_env, add_crm=True, gamma=1.0)"
   ]
  },
  {
   "cell_type": "code",
   "execution_count": 20,
   "id": "545740c8",
   "metadata": {
    "scrolled": false
   },
   "outputs": [
    {
     "name": "stdout",
     "output_type": "stream",
     "text": [
      "Step 1000/50000 @ Episode 83 (-9)\n",
      "Step 2000/50000 @ Episode 186 (-2)\n",
      "Step 3000/50000 @ Episode 295 (-5)\n",
      "Step 4000/50000 @ Episode 405 (-1)\n",
      "Step 5000/50000 @ Episode 523 (-7)\n",
      "Step 6000/50000 @ Episode 635 (-1)\n",
      "Step 7000/50000 @ Episode 749 (-6)\n",
      "Step 8000/50000 @ Episode 862 (-1)\n",
      "Step 9000/50000 @ Episode 968 (-8)\n",
      "Step 10000/50000 @ Episode 1077 (-10)\n",
      "Step 11000/50000 @ Episode 1193 (-1)\n",
      "Step 12000/50000 @ Episode 1302 (-6)\n",
      "Step 13000/50000 @ Episode 1418 (-2)\n",
      "Step 14000/50000 @ Episode 1525 (-6)\n",
      "Step 15000/50000 @ Episode 1636 (-3)\n",
      "Step 16000/50000 @ Episode 1746 (-5)\n",
      "Step 17000/50000 @ Episode 1858 (-2)\n",
      "Step 18000/50000 @ Episode 1964 (-6)\n",
      "Step 19000/50000 @ Episode 2078 (-7)\n",
      "Step 20000/50000 @ Episode 2184 (-2)\n",
      "Step 21000/50000 @ Episode 2295 (0)\n",
      "Step 22000/50000 @ Episode 2410 (-4)\n",
      "Step 23000/50000 @ Episode 2529 (-1)\n",
      "Step 24000/50000 @ Episode 2630 (-3)\n",
      "Step 25000/50000 @ Episode 2751 (-3)\n",
      "Step 26000/50000 @ Episode 2859 (-4)\n",
      "Step 27000/50000 @ Episode 2962 (-6)\n",
      "Step 28000/50000 @ Episode 3075 (-2)\n",
      "Step 29000/50000 @ Episode 3189 (-2)\n",
      "Step 30000/50000 @ Episode 3308 (-10)\n",
      "Step 31000/50000 @ Episode 3420 (-5)\n",
      "Step 32000/50000 @ Episode 3527 (-12)\n",
      "Step 33000/50000 @ Episode 3638 (-14)\n",
      "Step 34000/50000 @ Episode 3755 (-3)\n",
      "Step 35000/50000 @ Episode 3868 (0)\n",
      "Step 36000/50000 @ Episode 3976 (-11)\n",
      "Step 37000/50000 @ Episode 4088 (-7)\n",
      "Step 38000/50000 @ Episode 4199 (-9)\n",
      "Step 39000/50000 @ Episode 4319 (-8)\n",
      "Step 40000/50000 @ Episode 4440 (0)\n",
      "Step 41000/50000 @ Episode 4545 (-4)\n",
      "Step 42000/50000 @ Episode 4648 (-1)\n",
      "Step 43000/50000 @ Episode 4764 (-7)\n",
      "Step 44000/50000 @ Episode 4883 (-6)\n",
      "Step 45000/50000 @ Episode 4989 (-11)\n",
      "Step 46000/50000 @ Episode 5102 (-4)\n",
      "Step 47000/50000 @ Episode 5222 (-1)\n",
      "Step 48000/50000 @ Episode 5328 (0)\n",
      "Step 49000/50000 @ Episode 5447 (-2)\n",
      "Step 50000/50000 @ Episode 5561 (0)\n"
     ]
    }
   ],
   "source": [
    "q_fcn_rm1 = q_learning_tabular(test_crm_env, total_timesteps=50000, epsilon = 0.4, lr=0.1,print_freq=1000)"
   ]
  },
  {
   "cell_type": "code",
   "execution_count": 21,
   "id": "009ef21a",
   "metadata": {
    "scrolled": true
   },
   "outputs": [],
   "source": [
    "import matplotlib.pyplot as plt\n",
    "import numpy as np\n",
    "\n",
    "def visualize_q(q_fcn):\n",
    "\n",
    "    action_to_arrow = {0:\"R\", 1:\"D\", 2:\"L\", 3:\"U\"}\n",
    "    arrows = {\"R\":(1,0), \"L\":(-1,0),\"U\":(0,-1),\"D\":(0,1), \"\":None}\n",
    "    scale=0.25\n",
    "\n",
    "    #gather data and make plot for q fcn for each rm state \n",
    "    rm_state_qfcns = {}\n",
    "\n",
    "    for env_state, rm_state in q_fcn:\n",
    "    \n",
    "        agent_loc = env_state[0]\n",
    "        \n",
    "        q = q_fcn[(env_state,rm_state)]\n",
    "    \n",
    "        if rm_state not in rm_state_qfcns: \n",
    "            #initialize q values same as initialized at start (q_init=2)\n",
    "            data = np.full((test_crm_env.size, test_crm_env.size), 2, dtype=int) \n",
    "            #initialize arrow to be empty, no arrow shown if state not visited \n",
    "            data_arrow = np.full((test_crm_env.size, test_crm_env.size), \"\", dtype=\"object\")\n",
    "            rm_state_qfcns[rm_state] = (data, data_arrow)\n",
    "    \n",
    "        data,data_arrow = rm_state_qfcns[rm_state]\n",
    "        data[agent_loc[0]][agent_loc[1]] = np.mean(list(q.values()))\n",
    "        data_arrow[agent_loc[0]][agent_loc[1]] = action_to_arrow[max(q, key=q.get)]\n",
    "        rm_state_qfcns[rm_state] = (data, data_arrow)\n",
    "\n",
    "    #show q values and plot q fcn of each rm state \n",
    "    for rm_state in rm_state_qfcns:    \n",
    "        data,data_arrow = rm_state_qfcns[rm_state]\n",
    "\n",
    "        print(\"Average q value\\n\", data)\n",
    "        print(\"Direction of best action\\n\", data_arrow)\n",
    "        print(\"Plot showing direction of best action and average q value\")\n",
    "\n",
    "        fig, ax = plt.subplots()\n",
    "        # Using matshow here just because it sets the ticks up nicely. imshow is faster.\n",
    "        ax.matshow(data, cmap='seismic')\n",
    "\n",
    "        for (i, j), z in np.ndenumerate(data_arrow):\n",
    "            if arrows[z]: #add arrow if state was visited \n",
    "                plt.arrow(j, i, scale*arrows[z][0], scale*arrows[z][1], head_width=0.1)\n",
    "\n",
    "        plt.show()"
   ]
  },
  {
   "cell_type": "code",
   "execution_count": 22,
   "id": "7d11ab49",
   "metadata": {},
   "outputs": [
    {
     "name": "stdout",
     "output_type": "stream",
     "text": [
      "Average q value\n",
      " [[94 95 95 88 53]\n",
      " [95 46 96 95 74]\n",
      " [46  2 48 96 75]\n",
      " [97 48 98 97 67]\n",
      " [92 98  2 62 25]]\n",
      "Direction of best action\n",
      " [['R' 'D' 'D' 'D' 'L']\n",
      " ['R' 'R' 'D' 'L' 'L']\n",
      " ['D' '' 'D' 'D' 'L']\n",
      " ['R' 'D' 'D' 'L' 'L']\n",
      " ['R' 'R' '' 'L' 'U']]\n",
      "Plot showing direction of best action and average q value\n"
     ]
    },
    {
     "data": {
      "image/png": "[encoded data removed]",
      "text/plain": [
       "<Figure size 432x288 with 1 Axes>"
      ]
     },
     "metadata": {
      "needs_background": "light"
     },
     "output_type": "display_data"
    }
   ],
   "source": [
    "visualize_q(q_fcn_rm1)"
   ]
  },
  {
   "cell_type": "code",
   "execution_count": 33,
   "id": "6429d1ff",
   "metadata": {},
   "outputs": [
    {
     "name": "stdout",
     "output_type": "stream",
     "text": [
      "map size: 5x5\n",
      "[['a' '.' '.' '.' '.']\n",
      " ['.' '.' '.' '.' 'C']\n",
      " ['.' 'h' '.' '.' '.']\n",
      " ['.' '.' '.' '.' '.']\n",
      " ['.' '.' 'B' '.' '.']]\n"
     ]
    }
   ],
   "source": [
    "#Make RMEnv (debugging in environment_test.ipynb)\n",
    "rm_files = [\"./reward_machines/envs/grids/reward_machines/rm2.txt\"]\n",
    "map_file = \"./reward_machines/envs/grids/maps/map0_w_hazard_2nd_target.txt\"\n",
    "test_env = ObstacleRMEnv(rm_files, map_file)\n",
    "\n",
    "#Make RMEnv wrapper that generates counterfactual experience for each step\n",
    "test_crm_env = RewardMachineWrapper(test_env, add_crm=True, gamma=1.0)"
   ]
  },
  {
   "cell_type": "code",
   "execution_count": 34,
   "id": "885db12b",
   "metadata": {},
   "outputs": [
    {
     "name": "stdout",
     "output_type": "stream",
     "text": [
      "Step 1000/50000 @ Episode 45 (-29)\n",
      "Step 2000/50000 @ Episode 94 (-1)\n",
      "Step 3000/50000 @ Episode 155 (-19)\n",
      "Step 4000/50000 @ Episode 222 (-14)\n",
      "Step 5000/50000 @ Episode 293 (-26)\n",
      "Step 6000/50000 @ Episode 354 (-6)\n",
      "Step 7000/50000 @ Episode 424 (-14)\n",
      "Step 8000/50000 @ Episode 490 (-20)\n",
      "Step 9000/50000 @ Episode 561 (-5)\n",
      "Step 10000/50000 @ Episode 625 (-13)\n",
      "Step 11000/50000 @ Episode 689 (-1)\n",
      "Step 12000/50000 @ Episode 753 (-9)\n",
      "Step 13000/50000 @ Episode 818 (-11)\n",
      "Step 14000/50000 @ Episode 892 (-3)\n",
      "Step 15000/50000 @ Episode 961 (-4)\n",
      "Step 16000/50000 @ Episode 1028 (-15)\n",
      "Step 17000/50000 @ Episode 1094 (-4)\n",
      "Step 18000/50000 @ Episode 1169 (-3)\n",
      "Step 19000/50000 @ Episode 1231 (-10)\n",
      "Step 20000/50000 @ Episode 1300 (-6)\n",
      "Step 21000/50000 @ Episode 1370 (-1)\n",
      "Step 22000/50000 @ Episode 1433 (-3)\n",
      "Step 23000/50000 @ Episode 1495 (-1)\n",
      "Step 24000/50000 @ Episode 1561 (-2)\n",
      "Step 25000/50000 @ Episode 1632 (-12)\n",
      "Step 26000/50000 @ Episode 1703 (-5)\n",
      "Step 27000/50000 @ Episode 1767 (-17)\n",
      "Step 28000/50000 @ Episode 1835 (-2)\n",
      "Step 29000/50000 @ Episode 1901 (-5)\n",
      "Step 30000/50000 @ Episode 1969 (-1)\n",
      "Step 31000/50000 @ Episode 2037 (-11)\n",
      "Step 32000/50000 @ Episode 2104 (-1)\n",
      "Step 33000/50000 @ Episode 2172 (-6)\n",
      "Step 34000/50000 @ Episode 2242 (-1)\n",
      "Step 35000/50000 @ Episode 2314 (-4)\n",
      "Step 36000/50000 @ Episode 2384 (-16)\n",
      "Step 37000/50000 @ Episode 2451 (-4)\n",
      "Step 38000/50000 @ Episode 2521 (-7)\n",
      "Step 39000/50000 @ Episode 2590 (-1)\n",
      "Step 40000/50000 @ Episode 2656 (-15)\n",
      "Step 41000/50000 @ Episode 2730 (-4)\n",
      "Step 42000/50000 @ Episode 2801 (0)\n",
      "Step 43000/50000 @ Episode 2869 (-4)\n",
      "Step 44000/50000 @ Episode 2944 (-3)\n",
      "Step 45000/50000 @ Episode 3015 (-16)\n",
      "Step 46000/50000 @ Episode 3081 (-9)\n",
      "Step 47000/50000 @ Episode 3147 (-21)\n",
      "Step 48000/50000 @ Episode 3217 (-3)\n",
      "Step 49000/50000 @ Episode 3286 (0)\n",
      "Step 50000/50000 @ Episode 3353 (-10)\n"
     ]
    }
   ],
   "source": [
    "q_fcn_rm2 = q_learning_tabular(test_crm_env, total_timesteps=50000, epsilon = 0.4, lr=0.1,print_freq=1000)"
   ]
  },
  {
   "cell_type": "code",
   "execution_count": 35,
   "id": "05e79728",
   "metadata": {
    "scrolled": false
   },
   "outputs": [
    {
     "name": "stdout",
     "output_type": "stream",
     "text": [
      "Average q value\n",
      " [[89 90 90 69  8]\n",
      " [90 42 91 43  2]\n",
      " [41  2 44 91 31]\n",
      " [70 42 93 84 35]\n",
      " [28 51  2 35 16]]\n",
      "Direction of best action\n",
      " [['R' 'D' 'D' 'D' 'L']\n",
      " ['R' 'R' 'D' 'L' '']\n",
      " ['D' '' 'D' 'L' 'L']\n",
      " ['R' 'R' 'D' 'L' 'U']\n",
      " ['U' 'R' '' 'L' 'L']]\n",
      "Plot showing direction of best action and average q value\n"
     ]
    },
    {
     "data": {
      "image/png": "[encoded data removed]",
      "text/plain": [
       "<Figure size 432x288 with 1 Axes>"
      ]
     },
     "metadata": {
      "needs_background": "light"
     },
     "output_type": "display_data"
    },
    {
     "name": "stdout",
     "output_type": "stream",
     "text": [
      "Average q value\n",
      " [[95 96 97 96 86]\n",
      " [95 47 97 98  2]\n",
      " [45  2 47 97 96]\n",
      " [84 45 95 96 82]\n",
      " [61 93 95 94 68]]\n",
      "Direction of best action\n",
      " [['R' 'D' 'D' 'D' 'D']\n",
      " ['R' 'R' 'R' 'R' '']\n",
      " ['U' '' 'R' 'U' 'U']\n",
      " ['R' 'R' 'R' 'U' 'U']\n",
      " ['R' 'R' 'U' 'U' 'L']]\n",
      "Plot showing direction of best action and average q value\n"
     ]
    },
    {
     "data": {
      "image/png": "[encoded data removed]",
      "text/plain": [
       "<Figure size 432x288 with 1 Axes>"
      ]
     },
     "metadata": {
      "needs_background": "light"
     },
     "output_type": "display_data"
    }
   ],
   "source": [
    "visualize_q(q_fcn_rm2)"
   ]
  },
  {
   "cell_type": "code",
   "execution_count": 36,
   "id": "dc0a635f",
   "metadata": {},
   "outputs": [
    {
     "name": "stdout",
     "output_type": "stream",
     "text": [
      "Step 1000/50000 @ Episode 41 (-57)\n",
      "Step 2000/50000 @ Episode 85 (-18)\n",
      "Step 3000/50000 @ Episode 142 (-14)\n",
      "Step 4000/50000 @ Episode 203 (-5)\n",
      "Step 5000/50000 @ Episode 271 (-18)\n",
      "Step 6000/50000 @ Episode 338 (-4)\n",
      "Step 7000/50000 @ Episode 412 (-3)\n",
      "Step 8000/50000 @ Episode 478 (-9)\n",
      "Step 9000/50000 @ Episode 545 (-1)\n",
      "Step 10000/50000 @ Episode 610 (0)\n",
      "Step 11000/50000 @ Episode 675 (-10)\n",
      "Step 12000/50000 @ Episode 747 (0)\n",
      "Step 13000/50000 @ Episode 814 (-24)\n",
      "Step 14000/50000 @ Episode 881 (0)\n",
      "Step 15000/50000 @ Episode 950 (-22)\n",
      "Step 16000/50000 @ Episode 1017 (-15)\n",
      "Step 17000/50000 @ Episode 1083 (-16)\n",
      "Step 18000/50000 @ Episode 1149 (-3)\n",
      "Step 19000/50000 @ Episode 1214 (-1)\n",
      "Step 20000/50000 @ Episode 1289 (0)\n",
      "Step 21000/50000 @ Episode 1354 (-6)\n",
      "Step 22000/50000 @ Episode 1426 (-12)\n",
      "Step 23000/50000 @ Episode 1488 (-3)\n",
      "Step 24000/50000 @ Episode 1557 (0)\n",
      "Step 25000/50000 @ Episode 1626 (0)\n",
      "Step 26000/50000 @ Episode 1687 (-14)\n",
      "Step 27000/50000 @ Episode 1751 (-10)\n",
      "Step 28000/50000 @ Episode 1818 (-10)\n",
      "Step 29000/50000 @ Episode 1886 (-6)\n",
      "Step 30000/50000 @ Episode 1953 (-2)\n",
      "Step 31000/50000 @ Episode 2018 (0)\n",
      "Step 32000/50000 @ Episode 2080 (-11)\n",
      "Step 33000/50000 @ Episode 2144 (-5)\n",
      "Step 34000/50000 @ Episode 2210 (0)\n",
      "Step 35000/50000 @ Episode 2273 (-20)\n",
      "Step 36000/50000 @ Episode 2340 (-6)\n",
      "Step 37000/50000 @ Episode 2405 (-12)\n",
      "Step 38000/50000 @ Episode 2474 (-3)\n",
      "Step 39000/50000 @ Episode 2541 (-5)\n",
      "Step 40000/50000 @ Episode 2613 (-1)\n",
      "Step 41000/50000 @ Episode 2678 (-2)\n",
      "Step 42000/50000 @ Episode 2745 (-12)\n",
      "Step 43000/50000 @ Episode 2809 (-12)\n",
      "Step 44000/50000 @ Episode 2878 (-18)\n",
      "Step 45000/50000 @ Episode 2939 (-2)\n",
      "Step 46000/50000 @ Episode 3005 (-21)\n",
      "Step 47000/50000 @ Episode 3071 (-4)\n",
      "Step 48000/50000 @ Episode 3140 (-18)\n",
      "Step 49000/50000 @ Episode 3201 (-7)\n",
      "Step 50000/50000 @ Episode 3270 (-12)\n"
     ]
    }
   ],
   "source": [
    "q_fcn_rm2_no_crm = q_learning_tabular(test_crm_env, total_timesteps=50000, epsilon = 0.4, lr=0.1,print_freq=1000, use_crm=False)"
   ]
  },
  {
   "cell_type": "code",
   "execution_count": 37,
   "id": "aa88204a",
   "metadata": {
    "scrolled": false
   },
   "outputs": [
    {
     "name": "stdout",
     "output_type": "stream",
     "text": [
      "Average q value\n",
      " [[89 90 90 63  1]\n",
      " [89 42 91 43  2]\n",
      " [41  2 44 91 29]\n",
      " [39 42 93 92 70]\n",
      " [12 40  2 62 33]]\n",
      "Direction of best action\n",
      " [['R' 'D' 'D' 'D' 'L']\n",
      " ['R' 'R' 'D' 'D' '']\n",
      " ['U' '' 'D' 'D' 'L']\n",
      " ['R' 'R' 'D' 'L' 'L']\n",
      " ['R' 'R' '' 'L' 'U']]\n",
      "Plot showing direction of best action and average q value\n"
     ]
    },
    {
     "data": {
      "image/png": "[encoded data removed]",
      "text/plain": [
       "<Figure size 432x288 with 1 Axes>"
      ]
     },
     "metadata": {
      "needs_background": "light"
     },
     "output_type": "display_data"
    },
    {
     "name": "stdout",
     "output_type": "stream",
     "text": [
      "Average q value\n",
      " [[ 1  6 24 37 16]\n",
      " [ 1  8 60 96  2]\n",
      " [ 0  2 47 97 98]\n",
      " [35 44 95 96 97]\n",
      " [45 90 95 96 81]]\n",
      "Direction of best action\n",
      " [['U' 'R' 'D' 'D' 'D']\n",
      " ['D' 'R' 'R' 'R' '']\n",
      " ['D' '' 'R' 'R' 'U']\n",
      " ['R' 'R' 'R' 'U' 'U']\n",
      " ['R' 'R' 'U' 'U' 'U']]\n",
      "Plot showing direction of best action and average q value\n"
     ]
    },
    {
     "data": {
      "image/png": "[encoded data removed]",
      "text/plain": [
       "<Figure size 432x288 with 1 Axes>"
      ]
     },
     "metadata": {
      "needs_background": "light"
     },
     "output_type": "display_data"
    }
   ],
   "source": [
    "visualize_q(q_fcn_rm2_no_crm)"
   ]
  },
  {
   "cell_type": "code",
   "execution_count": 38,
   "id": "9e41bc34",
   "metadata": {
    "scrolled": true
   },
   "outputs": [
    {
     "name": "stdout",
     "output_type": "stream",
     "text": [
      "map size: 8x8\n",
      "[['a' '.' '.' '.' '.' '.' '.' '.']\n",
      " ['.' '.' '.' '.' 'X' '.' '.' '.']\n",
      " ['.' '.' 'C' 'X' 'X' '.' '.' '.']\n",
      " ['.' '.' '.' 'X' '.' '.' '.' '.']\n",
      " ['.' 'H' '.' '.' '.' '.' '.' '.']\n",
      " ['.' '.' '.' '.' '.' '.' '.' '.']\n",
      " ['.' '.' '.' '.' 'B' '.' '.' '.']\n",
      " ['.' '.' '.' '.' '.' '.' '.' '.']]\n"
     ]
    }
   ],
   "source": [
    "#Make RMEnv (debugging in environment_test.ipynb)\n",
    "rm_files = [\"./reward_machines/envs/grids/reward_machines/rm2.txt\"]\n",
    "map_file = \"./reward_machines/envs/grids/maps/map1.txt\"\n",
    "test_env = ObstacleRMEnv(rm_files, map_file)\n",
    "\n",
    "#Make RMEnv wrapper that generates counterfactual experience for each step\n",
    "test_crm_env = RewardMachineWrapper(test_env, add_crm=True, gamma=1.0)"
   ]
  },
  {
   "cell_type": "code",
   "execution_count": 39,
   "id": "90bc7d0d",
   "metadata": {
    "scrolled": false
   },
   "outputs": [
    {
     "name": "stdout",
     "output_type": "stream",
     "text": [
      "Step 1000/50000 @ Episode 15 (-37)\n",
      "Step 2000/50000 @ Episode 26 (-83)\n",
      "Step 3000/50000 @ Episode 40 (-93)\n",
      "Step 4000/50000 @ Episode 60 (-48)\n",
      "Step 5000/50000 @ Episode 87 (-23)\n",
      "Step 6000/50000 @ Episode 123 (-5)\n",
      "Step 7000/50000 @ Episode 175 (-22)\n",
      "Step 8000/50000 @ Episode 233 (-16)\n",
      "Step 9000/50000 @ Episode 285 (-5)\n",
      "Step 10000/50000 @ Episode 340 (0)\n",
      "Step 11000/50000 @ Episode 395 (-17)\n",
      "Step 12000/50000 @ Episode 446 (-5)\n",
      "Step 13000/50000 @ Episode 503 (-14)\n",
      "Step 14000/50000 @ Episode 561 (-21)\n",
      "Step 15000/50000 @ Episode 615 (-14)\n",
      "Step 16000/50000 @ Episode 672 (-14)\n",
      "Step 17000/50000 @ Episode 728 (-15)\n",
      "Step 18000/50000 @ Episode 783 (-9)\n",
      "Step 19000/50000 @ Episode 836 (-18)\n",
      "Step 20000/50000 @ Episode 891 (-6)\n",
      "Step 21000/50000 @ Episode 949 (-5)\n",
      "Step 22000/50000 @ Episode 1006 (-18)\n",
      "Step 23000/50000 @ Episode 1063 (-11)\n",
      "Step 24000/50000 @ Episode 1118 (-7)\n",
      "Step 25000/50000 @ Episode 1176 (-14)\n",
      "Step 26000/50000 @ Episode 1234 (-21)\n",
      "Step 27000/50000 @ Episode 1292 (-3)\n",
      "Step 28000/50000 @ Episode 1345 (-7)\n",
      "Step 29000/50000 @ Episode 1402 (-4)\n",
      "Step 30000/50000 @ Episode 1457 (-13)\n",
      "Step 31000/50000 @ Episode 1515 (-15)\n",
      "Step 32000/50000 @ Episode 1572 (-17)\n",
      "Step 33000/50000 @ Episode 1629 (0)\n",
      "Step 34000/50000 @ Episode 1680 (-16)\n",
      "Step 35000/50000 @ Episode 1735 (-12)\n",
      "Step 36000/50000 @ Episode 1790 (-5)\n",
      "Step 37000/50000 @ Episode 1843 (-13)\n",
      "Step 38000/50000 @ Episode 1902 (-5)\n",
      "Step 39000/50000 @ Episode 1954 (-5)\n",
      "Step 40000/50000 @ Episode 2008 (-7)\n",
      "Step 41000/50000 @ Episode 2069 (-4)\n",
      "Step 42000/50000 @ Episode 2122 (-4)\n",
      "Step 43000/50000 @ Episode 2177 (-1)\n",
      "Step 44000/50000 @ Episode 2237 (-15)\n",
      "Step 45000/50000 @ Episode 2290 (-13)\n",
      "Step 46000/50000 @ Episode 2343 (-13)\n",
      "Step 47000/50000 @ Episode 2399 (-1)\n",
      "Step 48000/50000 @ Episode 2452 (-15)\n",
      "Step 49000/50000 @ Episode 2508 (-2)\n",
      "Step 50000/50000 @ Episode 2565 (-11)\n"
     ]
    }
   ],
   "source": [
    "q_fcn_rm2_map2 = q_learning_tabular(test_crm_env, total_timesteps=50000, epsilon = 0.2, lr=0.1,print_freq=1000)"
   ]
  },
  {
   "cell_type": "code",
   "execution_count": 40,
   "id": "80449b2f",
   "metadata": {},
   "outputs": [
    {
     "name": "stdout",
     "output_type": "stream",
     "text": [
      "Average q value\n",
      " [[84 53 10 -2 -1 -1  0  0]\n",
      " [85 72  2 -1  2  0  0  0]\n",
      " [86 36  2  2  2  0  0  0]\n",
      " [86 40 41  2 16  6  0  0]\n",
      " [21  2 42 73 59 25  2  0]\n",
      " [22 20 90 91 92 34 11  1]\n",
      " [ 4 17 44 52  2 12  2  1]\n",
      " [ 0  2  4 17  3  1  1  1]]\n",
      "Direction of best action\n",
      " [['D' 'D' 'D' 'U' 'L' 'R' 'R' 'L']\n",
      " ['D' 'D' 'L' 'L' '' 'D' 'D' 'R']\n",
      " ['D' 'D' '' '' '' 'D' 'L' 'L']\n",
      " ['R' 'R' 'D' '' 'D' 'D' 'L' 'U']\n",
      " ['U' '' 'D' 'R' 'D' 'L' 'L' 'R']\n",
      " ['R' 'R' 'R' 'R' 'D' 'L' 'L' 'L']\n",
      " ['U' 'R' 'U' 'R' '' 'L' 'L' 'U']\n",
      " ['U' 'U' 'R' 'U' 'U' 'U' 'U' 'R']]\n",
      "Plot showing direction of best action and average q value\n"
     ]
    },
    {
     "data": {
      "image/png": "[encoded data removed]",
      "text/plain": [
       "<Figure size 432x288 with 1 Axes>"
      ]
     },
     "metadata": {
      "needs_background": "light"
     },
     "output_type": "display_data"
    },
    {
     "name": "stdout",
     "output_type": "stream",
     "text": [
      "Average q value\n",
      " [[94 80 52 33 16  5  1  0]\n",
      " [95 89 65 43  2  1  0  0]\n",
      " [96 94  2  2  2  1  0  0]\n",
      " [96 48 98  2 22 11  1  0]\n",
      " [30  2 48 96 75 28  4  0]\n",
      " [29 26 96 95 94 43 13  1]\n",
      " [ 7 24 73 94 93 48 15  0]\n",
      " [ 0  7 32 45 48 22  2  0]]\n",
      "Direction of best action\n",
      " [['D' 'D' 'D' 'L' 'L' 'L' 'L' 'L']\n",
      " ['D' 'D' 'L' 'L' '' 'U' 'U' 'U']\n",
      " ['D' 'D' '' '' '' 'D' 'U' 'U']\n",
      " ['R' 'R' 'U' '' 'D' 'D' 'L' 'L']\n",
      " ['U' '' 'U' 'L' 'L' 'L' 'L' 'L']\n",
      " ['R' 'R' 'U' 'U' 'L' 'L' 'L' 'L']\n",
      " ['U' 'R' 'U' 'U' 'L' 'L' 'L' 'L']\n",
      " ['U' 'U' 'U' 'U' 'U' 'U' 'U' 'L']]\n",
      "Plot showing direction of best action and average q value\n"
     ]
    },
    {
     "data": {
      "image/png": "[encoded data removed]",
      "text/plain": [
       "<Figure size 432x288 with 1 Axes>"
      ]
     },
     "metadata": {
      "needs_background": "light"
     },
     "output_type": "display_data"
    }
   ],
   "source": [
    "visualize_q(q_fcn_rm2_map2)"
   ]
  },
  {
   "cell_type": "code",
   "execution_count": 31,
   "id": "60fd5438",
   "metadata": {},
   "outputs": [
    {
     "name": "stdout",
     "output_type": "stream",
     "text": [
      "Step 1000/50000 @ Episode 15 (-14)\n",
      "Step 2000/50000 @ Episode 24 (-65)\n",
      "Step 3000/50000 @ Episode 38 (-31)\n",
      "Step 4000/50000 @ Episode 48 (-28)\n",
      "Step 5000/50000 @ Episode 63 (-15)\n",
      "Step 6000/50000 @ Episode 85 (-20)\n",
      "Step 7000/50000 @ Episode 114 (-18)\n",
      "Step 8000/50000 @ Episode 144 (-19)\n",
      "Step 9000/50000 @ Episode 193 (-18)\n",
      "Step 10000/50000 @ Episode 251 (0)\n",
      "Step 11000/50000 @ Episode 308 (-17)\n",
      "Step 12000/50000 @ Episode 365 (-8)\n",
      "Step 13000/50000 @ Episode 424 (-4)\n",
      "Step 14000/50000 @ Episode 483 (-10)\n",
      "Step 15000/50000 @ Episode 541 (-24)\n",
      "Step 16000/50000 @ Episode 596 (-18)\n",
      "Step 17000/50000 @ Episode 651 (-3)\n",
      "Step 18000/50000 @ Episode 710 (-6)\n",
      "Step 19000/50000 @ Episode 764 (-12)\n",
      "Step 20000/50000 @ Episode 824 (-1)\n",
      "Step 21000/50000 @ Episode 880 (-12)\n",
      "Step 22000/50000 @ Episode 939 (-7)\n",
      "Step 23000/50000 @ Episode 995 (-4)\n",
      "Step 24000/50000 @ Episode 1054 (0)\n",
      "Step 25000/50000 @ Episode 1112 (-4)\n",
      "Step 26000/50000 @ Episode 1176 (-8)\n",
      "Step 27000/50000 @ Episode 1236 (-10)\n",
      "Step 28000/50000 @ Episode 1296 (-2)\n",
      "Step 29000/50000 @ Episode 1351 (-1)\n",
      "Step 30000/50000 @ Episode 1408 (-8)\n",
      "Step 31000/50000 @ Episode 1462 (-11)\n",
      "Step 32000/50000 @ Episode 1518 (-9)\n",
      "Step 33000/50000 @ Episode 1579 (-18)\n",
      "Step 34000/50000 @ Episode 1636 (-10)\n",
      "Step 35000/50000 @ Episode 1697 (-7)\n",
      "Step 36000/50000 @ Episode 1760 (-8)\n",
      "Step 37000/50000 @ Episode 1821 (-14)\n",
      "Step 38000/50000 @ Episode 1887 (-4)\n",
      "Step 39000/50000 @ Episode 1945 (-1)\n",
      "Step 40000/50000 @ Episode 2002 (0)\n",
      "Step 41000/50000 @ Episode 2060 (-5)\n",
      "Step 42000/50000 @ Episode 2117 (-17)\n",
      "Step 43000/50000 @ Episode 2178 (-16)\n",
      "Step 44000/50000 @ Episode 2238 (-5)\n",
      "Step 45000/50000 @ Episode 2293 (-5)\n",
      "Step 46000/50000 @ Episode 2349 (-2)\n",
      "Step 47000/50000 @ Episode 2408 (-17)\n",
      "Step 48000/50000 @ Episode 2467 (-10)\n",
      "Step 49000/50000 @ Episode 2528 (-4)\n",
      "Step 50000/50000 @ Episode 2587 (-1)\n"
     ]
    }
   ],
   "source": [
    "q_fcn_rm2_map2_no_crm = q_learning_tabular(test_crm_env, total_timesteps=50000, epsilon = 0.2, lr=0.1,print_freq=1000, use_crm=False)"
   ]
  },
  {
   "cell_type": "code",
   "execution_count": 41,
   "id": "fcb039f9",
   "metadata": {
    "scrolled": false
   },
   "outputs": [
    {
     "name": "stdout",
     "output_type": "stream",
     "text": [
      "Average q value\n",
      " [[83 38 10 -2 -2 -1 -1 -1]\n",
      " [85 67  3 -3  2 -1 -1  0]\n",
      " [86 39  2  2  2  0  0  0]\n",
      " [56 40 41  2 17  4  0  0]\n",
      " [-9  2 42 91 63 24  4  0]\n",
      " [ 6  8 62 91 92 47 16  0]\n",
      " [ 0  3 25 43  2 16  2  0]\n",
      " [ 0  0  1 17  1  0  0  0]]\n",
      "Direction of best action\n",
      " [['D' 'L' 'D' 'U' 'R' 'D' 'D' 'D']\n",
      " ['D' 'D' 'L' 'R' '' 'D' 'D' 'U']\n",
      " ['R' 'D' '' '' '' 'D' 'L' 'R']\n",
      " ['R' 'R' 'D' '' 'D' 'D' 'D' 'R']\n",
      " ['U' '' 'R' 'D' 'D' 'D' 'L' 'L']\n",
      " ['R' 'R' 'R' 'R' 'D' 'L' 'L' 'L']\n",
      " ['U' 'R' 'R' 'R' '' 'L' 'L' 'L']\n",
      " ['U' 'R' 'R' 'U' 'U' 'D' 'R' 'R']]\n",
      "Plot showing direction of best action and average q value\n"
     ]
    },
    {
     "data": {
      "image/png": "[encoded data removed]",
      "text/plain": [
       "<Figure size 432x288 with 1 Axes>"
      ]
     },
     "metadata": {
      "needs_background": "light"
     },
     "output_type": "display_data"
    },
    {
     "name": "stdout",
     "output_type": "stream",
     "text": [
      "Average q value\n",
      " [[ 2  1  1  1  1  1  1  1]\n",
      " [ 1  2 10  3  2  1  1  1]\n",
      " [ 1  5  2  2  2  1  1  1]\n",
      " [12 16 98  2 24  4  1  1]\n",
      " [ 0  2 48 96 62 24  1  1]\n",
      " [ 1 16 81 95 68 21  9  1]\n",
      " [ 1  9 40 94 93 34  3  0]\n",
      " [ 1  1 18 48 47 15  1  0]]\n",
      "Direction of best action\n",
      " [['' 'D' 'D' 'R' 'R' 'R' 'L' 'L']\n",
      " ['U' 'R' 'D' 'L' '' 'D' 'R' 'U']\n",
      " ['R' 'D' '' '' '' 'D' 'L' 'U']\n",
      " ['R' 'R' 'U' '' 'D' 'L' 'L' 'D']\n",
      " ['L' '' 'U' 'L' 'L' 'L' 'R' 'D']\n",
      " ['U' 'R' 'U' 'U' 'U' 'U' 'L' 'L']\n",
      " ['D' 'U' 'U' 'U' 'L' 'L' 'U' 'R']\n",
      " ['L' 'R' 'R' 'U' 'U' 'L' 'L' 'D']]\n",
      "Plot showing direction of best action and average q value\n"
     ]
    },
    {
     "data": {
      "image/png": "[encoded data removed]",
      "text/plain": [
       "<Figure size 432x288 with 1 Axes>"
      ]
     },
     "metadata": {
      "needs_background": "light"
     },
     "output_type": "display_data"
    }
   ],
   "source": [
    "visualize_q(q_fcn_rm2_map2_no_crm)"
   ]
  },
  {
   "cell_type": "code",
   "execution_count": 42,
   "id": "3560fe2f",
   "metadata": {},
   "outputs": [
    {
     "name": "stdout",
     "output_type": "stream",
     "text": [
      "map size: 10x10\n",
      "[['a' '.' '.' '.' '.' '.' '.' '.' '.' '.']\n",
      " ['.' '.' '.' '.' 'X' '.' '.' 'H' '.' '.']\n",
      " ['.' '.' 'C' 'X' 'X' '.' '.' '.' '.' '.']\n",
      " ['.' '.' '.' 'X' '.' '.' '.' '.' '.' '.']\n",
      " ['.' '.' '.' '.' '.' '.' '.' '.' '.' '.']\n",
      " ['.' '.' 'H' '.' '.' '.' '.' '.' 'D' '.']\n",
      " ['.' '.' '.' '.' '.' '.' '.' '.' '.' '.']\n",
      " ['.' '.' '.' '.' 'B' '.' '.' '.' '.' '.']\n",
      " ['.' '.' '.' '.' '.' '.' '.' '.' '.' '.']\n",
      " ['.' '.' '.' '.' '.' '.' '.' '.' '.' '.']]\n"
     ]
    }
   ],
   "source": [
    "#Make RMEnv (debugging in environment_test.ipynb)\n",
    "rm_files = [\"./reward_machines/envs/grids/reward_machines/rm3.txt\"]\n",
    "map_file = \"./reward_machines/envs/grids/maps/map2.txt\"\n",
    "test_env = ObstacleRMEnv(rm_files, map_file)\n",
    "\n",
    "#Make RMEnv wrapper that generates counterfactual experience for each step\n",
    "test_crm_env = RewardMachineWrapper(test_env, add_crm=True, gamma=1.0)"
   ]
  },
  {
   "cell_type": "code",
   "execution_count": 43,
   "id": "fb7f766a",
   "metadata": {},
   "outputs": [
    {
     "name": "stdout",
     "output_type": "stream",
     "text": [
      "Step 1000/50000 @ Episode 24 (-57)\n",
      "Step 2000/50000 @ Episode 30 (-146)\n",
      "Step 3000/50000 @ Episode 37 (-190)\n",
      "Step 4000/50000 @ Episode 41 (-290)\n",
      "Step 5000/50000 @ Episode 54 (-92)\n",
      "Step 6000/50000 @ Episode 60 (-4)\n",
      "Step 7000/50000 @ Episode 69 (-9)\n",
      "Step 8000/50000 @ Episode 77 (-3)\n",
      "Step 9000/50000 @ Episode 84 (-359)\n",
      "Step 10000/50000 @ Episode 97 (-120)\n",
      "Step 11000/50000 @ Episode 104 (-22)\n",
      "Step 12000/50000 @ Episode 111 (-18)\n",
      "Step 13000/50000 @ Episode 124 (-116)\n",
      "Step 14000/50000 @ Episode 135 (-16)\n",
      "Step 15000/50000 @ Episode 143 (-32)\n",
      "Step 16000/50000 @ Episode 150 (-75)\n",
      "Step 17000/50000 @ Episode 163 (-102)\n",
      "Step 18000/50000 @ Episode 169 (-117)\n",
      "Step 19000/50000 @ Episode 179 (-156)\n",
      "Step 20000/50000 @ Episode 186 (-118)\n",
      "Step 21000/50000 @ Episode 198 (-39)\n",
      "Step 22000/50000 @ Episode 207 (-44)\n",
      "Step 23000/50000 @ Episode 218 (-1)\n",
      "Step 24000/50000 @ Episode 227 (-118)\n",
      "Step 25000/50000 @ Episode 242 (-22)\n",
      "Step 26000/50000 @ Episode 257 (-15)\n",
      "Step 27000/50000 @ Episode 277 (-1)\n",
      "Step 28000/50000 @ Episode 298 (-139)\n",
      "Step 29000/50000 @ Episode 323 (-41)\n",
      "Step 30000/50000 @ Episode 349 (-3)\n",
      "Step 31000/50000 @ Episode 375 (-5)\n",
      "Step 32000/50000 @ Episode 404 (-12)\n",
      "Step 33000/50000 @ Episode 435 (-15)\n",
      "Step 34000/50000 @ Episode 465 (-40)\n",
      "Step 35000/50000 @ Episode 495 (-17)\n",
      "Step 36000/50000 @ Episode 525 (-16)\n",
      "Step 37000/50000 @ Episode 556 (-17)\n",
      "Step 38000/50000 @ Episode 585 (-23)\n",
      "Step 39000/50000 @ Episode 616 (-5)\n",
      "Step 40000/50000 @ Episode 649 (-1)\n",
      "Step 41000/50000 @ Episode 679 (-8)\n",
      "Step 42000/50000 @ Episode 711 (-7)\n",
      "Step 43000/50000 @ Episode 746 (-22)\n",
      "Step 44000/50000 @ Episode 778 (-14)\n",
      "Step 45000/50000 @ Episode 812 (-22)\n",
      "Step 46000/50000 @ Episode 842 (-27)\n",
      "Step 47000/50000 @ Episode 874 (-20)\n",
      "Step 48000/50000 @ Episode 908 (-13)\n",
      "Step 49000/50000 @ Episode 941 (-19)\n",
      "Step 50000/50000 @ Episode 971 (0)\n"
     ]
    }
   ],
   "source": [
    "q_fcn_rm3 = q_learning_tabular(test_crm_env, total_timesteps=50000, epsilon = 0.2, lr=0.1,print_freq=1000)"
   ]
  },
  {
   "cell_type": "code",
   "execution_count": 44,
   "id": "db86dd88",
   "metadata": {
    "scrolled": false
   },
   "outputs": [
    {
     "name": "stdout",
     "output_type": "stream",
     "text": [
      "Average q value\n",
      " [[ 66  18  -7  -6  -6  -5  -5 -22  -4  -4]\n",
      " [ 66  18 -26  -7   2  -5 -19   2 -20  -4]\n",
      " [ 72   2   2   2   2  -4  -4 -11  -4  -4]\n",
      " [ 72  31 -12   2  -2  -3  -4  -4  -4  -4]\n",
      " [ 69  72  -2   1   7   0  -3  -3 -18  -3]\n",
      " [ 26  28   2  -8  13  -1  -3 -18   2 -17]\n",
      " [ 37  76  10  23  18   0  -3  -3 -13  -3]\n",
      " [ 25  70  77  74   2   7  -1  -3  -3  -3]\n",
      " [  2  19  23  19   3  -1  -2  -2  -3  -3]\n",
      " [ -2  -3  -3   0  -2  -2  -2  -2  -3  -3]]\n",
      "Direction of best action\n",
      " [['D' 'L' 'R' 'D' 'D' 'L' 'R' 'R' 'L' 'U']\n",
      " ['D' 'D' 'U' 'D' '' 'D' 'D' '' 'D' 'R']\n",
      " ['D' 'D' '' '' '' 'D' 'L' 'D' 'U' 'R']\n",
      " ['D' 'D' 'D' '' 'D' 'D' 'U' 'U' 'D' 'R']\n",
      " ['R' 'D' 'L' 'R' 'D' 'L' 'L' 'D' 'L' 'R']\n",
      " ['D' 'D' '' 'R' 'D' 'L' 'D' 'U' '' 'U']\n",
      " ['R' 'D' 'D' 'D' 'D' 'D' 'L' 'L' 'D' 'D']\n",
      " ['R' 'R' 'R' 'R' '' 'L' 'L' 'L' 'U' 'L']\n",
      " ['U' 'U' 'U' 'U' 'U' 'U' 'R' 'D' 'L' 'U']\n",
      " ['U' 'D' 'D' 'U' 'U' 'U' 'L' 'U' 'L' 'D']]\n",
      "Plot showing direction of best action and average q value\n"
     ]
    },
    {
     "data": {
      "image/png": "[encoded data removed]",
      "text/plain": [
       "<Figure size 432x288 with 1 Axes>"
      ]
     },
     "metadata": {
      "needs_background": "light"
     },
     "output_type": "display_data"
    },
    {
     "name": "stdout",
     "output_type": "stream",
     "text": [
      "Average q value\n",
      " [[ 80  56  26  13   3  -2  -4 -22  -5  -5]\n",
      " [ 83  51  32  20   2  -3 -19   2 -23  -5]\n",
      " [ 84  65   2   2   2  -2  -4 -17  -5  -5]\n",
      " [ 85  75  88   2   8   2  -2  -4  -4  -5]\n",
      " [ 79  86  41  86  42  11   0  -3 -18  -4]\n",
      " [ 37  33   2  37  43   7  -3 -22   2 -21]\n",
      " [ 40  79  28  83  42  10  -3  -4 -16  -4]\n",
      " [ 27  73  81  84  81  23   2  -4  -4  -4]\n",
      " [  1  20  24  35  22   4  -4  -4  -4  -4]\n",
      " [ -3  -3  -3   2   0  -4  -4  -4  -4  -4]]\n",
      "Direction of best action\n",
      " [['D' 'L' 'D' 'L' 'L' 'L' 'L' 'L' 'L' 'L']\n",
      " ['D' 'D' 'L' 'L' '' 'D' 'L' '' 'U' 'U']\n",
      " ['R' 'D' '' '' '' 'D' 'D' 'L' 'L' 'U']\n",
      " ['R' 'R' 'U' '' 'D' 'D' 'D' 'L' 'L' 'R']\n",
      " ['R' 'R' 'U' 'L' 'L' 'L' 'L' 'L' 'L' 'L']\n",
      " ['D' 'U' '' 'U' 'D' 'L' 'L' 'L' '' 'U']\n",
      " ['R' 'D' 'R' 'U' 'D' 'D' 'L' 'U' 'R' 'U']\n",
      " ['R' 'R' 'R' 'U' 'L' 'L' 'L' 'L' 'U' 'R']\n",
      " ['U' 'U' 'U' 'U' 'U' 'U' 'R' 'R' 'R' 'U']\n",
      " ['U' 'U' 'R' 'U' 'U' 'U' 'R' 'U' 'R' 'U']]\n",
      "Plot showing direction of best action and average q value\n"
     ]
    },
    {
     "data": {
      "image/png": "[encoded data removed]",
      "text/plain": [
       "<Figure size 432x288 with 1 Axes>"
      ]
     },
     "metadata": {
      "needs_background": "light"
     },
     "output_type": "display_data"
    },
    {
     "name": "stdout",
     "output_type": "stream",
     "text": [
      "Average q value\n",
      " [[85 71 53 47 56 63 60 18 47 42]\n",
      " [87 71 53 43  2 71 36  2 23 52]\n",
      " [88 77 86  2  2 78 80 47 72 63]\n",
      " [89 87 91  2 79 81 86 88 82 74]\n",
      " [88 91 44 94 89 91 93 94 81 79]\n",
      " [65 41  2 45 95 96 97 98  2 77]\n",
      " [60 89 40 93 92 90 91 93 80 78]\n",
      " [46 84 91 92 92 82 82 83 78 70]\n",
      " [16 37 46 59 58 59 67 71 65 56]\n",
      " [ 6 11 18 32 39 47 57 61 55 46]]\n",
      "Direction of best action\n",
      " [['D' 'L' 'R' 'R' 'R' 'D' 'D' 'L' 'D' 'D']\n",
      " ['D' 'D' 'L' 'U' '' 'D' 'D' '' 'D' 'D']\n",
      " ['D' 'D' 'D' '' '' 'D' 'D' 'D' 'D' 'D']\n",
      " ['D' 'R' 'D' '' 'D' 'D' 'D' 'D' 'L' 'D']\n",
      " ['R' 'R' 'R' 'D' 'D' 'D' 'D' 'D' 'L' 'L']\n",
      " ['D' 'D' '' 'R' 'R' 'R' 'R' 'R' '' 'D']\n",
      " ['R' 'R' 'R' 'U' 'U' 'U' 'U' 'U' 'L' 'L']\n",
      " ['R' 'R' 'R' 'U' 'U' 'L' 'U' 'U' 'L' 'U']\n",
      " ['U' 'U' 'U' 'U' 'U' 'U' 'U' 'U' 'U' 'U']\n",
      " ['U' 'U' 'R' 'U' 'U' 'U' 'U' 'U' 'U' 'L']]\n",
      "Plot showing direction of best action and average q value\n"
     ]
    },
    {
     "data": {
      "image/png": "[encoded data removed]",
      "text/plain": [
       "<Figure size 432x288 with 1 Axes>"
      ]
     },
     "metadata": {
      "needs_background": "light"
     },
     "output_type": "display_data"
    }
   ],
   "source": [
    "visualize_q(q_fcn_rm3)"
   ]
  },
  {
   "cell_type": "code",
   "execution_count": 45,
   "id": "8a9d9260",
   "metadata": {},
   "outputs": [
    {
     "name": "stdout",
     "output_type": "stream",
     "text": [
      "Step 1000/50000 @ Episode 18 (-20)\n",
      "Step 2000/50000 @ Episode 31 (-55)\n",
      "Step 3000/50000 @ Episode 44 (-197)\n",
      "Step 4000/50000 @ Episode 52 (-202)\n",
      "Step 5000/50000 @ Episode 63 (-94)\n",
      "Step 6000/50000 @ Episode 69 (-21)\n",
      "Step 7000/50000 @ Episode 77 (-147)\n",
      "Step 8000/50000 @ Episode 85 (-37)\n",
      "Step 9000/50000 @ Episode 95 (-18)\n",
      "Step 10000/50000 @ Episode 101 (-67)\n",
      "Step 11000/50000 @ Episode 106 (-183)\n",
      "Step 12000/50000 @ Episode 112 (-237)\n",
      "Step 13000/50000 @ Episode 123 (-1)\n",
      "Step 14000/50000 @ Episode 127 (-118)\n",
      "Step 15000/50000 @ Episode 134 (-175)\n",
      "Step 16000/50000 @ Episode 141 (-33)\n",
      "Step 17000/50000 @ Episode 145 (-229)\n",
      "Step 18000/50000 @ Episode 151 (-336)\n",
      "Step 19000/50000 @ Episode 161 (-32)\n",
      "Step 20000/50000 @ Episode 170 (-19)\n",
      "Step 21000/50000 @ Episode 176 (-174)\n",
      "Step 22000/50000 @ Episode 182 (-145)\n",
      "Step 23000/50000 @ Episode 186 (-324)\n",
      "Step 24000/50000 @ Episode 192 (-156)\n",
      "Step 25000/50000 @ Episode 201 (-6)\n",
      "Step 26000/50000 @ Episode 210 (-192)\n",
      "Step 27000/50000 @ Episode 218 (-145)\n",
      "Step 28000/50000 @ Episode 222 (-3)\n",
      "Step 29000/50000 @ Episode 226 (-197)\n",
      "Step 30000/50000 @ Episode 231 (-133)\n",
      "Step 31000/50000 @ Episode 237 (-282)\n",
      "Step 32000/50000 @ Episode 245 (-91)\n",
      "Step 33000/50000 @ Episode 251 (-201)\n",
      "Step 34000/50000 @ Episode 258 (-19)\n",
      "Step 35000/50000 @ Episode 267 (-60)\n",
      "Step 36000/50000 @ Episode 278 (-29)\n",
      "Step 37000/50000 @ Episode 286 (-37)\n",
      "Step 38000/50000 @ Episode 294 (-2)\n",
      "Step 39000/50000 @ Episode 303 (-62)\n",
      "Step 40000/50000 @ Episode 312 (-92)\n",
      "Step 41000/50000 @ Episode 324 (-36)\n",
      "Step 42000/50000 @ Episode 333 (-45)\n",
      "Step 43000/50000 @ Episode 341 (-211)\n",
      "Step 44000/50000 @ Episode 347 (-69)\n",
      "Step 45000/50000 @ Episode 354 (-58)\n",
      "Step 46000/50000 @ Episode 364 (-17)\n",
      "Step 47000/50000 @ Episode 374 (-151)\n",
      "Step 48000/50000 @ Episode 381 (-211)\n",
      "Step 49000/50000 @ Episode 393 (-7)\n",
      "Step 50000/50000 @ Episode 403 (-28)\n"
     ]
    }
   ],
   "source": [
    "q_fcn_rm3_no_crm = q_learning_tabular(test_crm_env, total_timesteps=50000, epsilon = 0.2, lr=0.1,print_freq=1000, use_crm=False)"
   ]
  },
  {
   "cell_type": "code",
   "execution_count": 47,
   "id": "41d96524",
   "metadata": {},
   "outputs": [
    {
     "name": "stdout",
     "output_type": "stream",
     "text": [
      "Average q value\n",
      " [[ -8  -8  -7  -7  -6  -5  -5 -20  -4  -4]\n",
      " [ -7  -7 -27  -7   2  -5 -16   2 -25  -4]\n",
      " [ -7 -23   2   2   2  -4  -4 -19  -4  -4]\n",
      " [ -6  -6 -24   2  -4  -4  -4  -4  -4  -4]\n",
      " [ -6  -5 -24  -5  -4  -4  -4  -4 -21  -4]\n",
      " [ -5 -22   2 -22  -4  -4  -4 -22   2 -16]\n",
      " [ -5  -5 -22  -4  -4  -4  -4  -4 -18  -4]\n",
      " [ -5  -4  -4  -4   2  -4  -4  -4  -4  -4]\n",
      " [ -4  -4  -4  -4  -4  -4  -4  -4  -4  -4]\n",
      " [ -4  -4  -4  -4  -4  -4  -4  -4  -4  -4]]\n",
      "Direction of best action\n",
      " [['R' 'R' 'R' 'L' 'R' 'U' 'U' 'R' 'L' 'U']\n",
      " ['L' 'L' 'L' 'D' '' 'L' 'L' '' 'D' 'R']\n",
      " ['R' 'L' '' '' '' 'U' 'R' 'D' 'R' 'D']\n",
      " ['D' 'R' 'D' '' 'D' 'U' 'U' 'L' 'L' 'R']\n",
      " ['R' 'R' 'L' 'U' 'L' 'D' 'U' 'U' 'R' 'U']\n",
      " ['R' 'L' '' 'U' 'D' 'R' 'R' 'L' '' 'R']\n",
      " ['R' 'U' 'D' 'L' 'R' 'D' 'R' 'D' 'L' 'U']\n",
      " ['U' 'D' 'U' 'U' '' 'R' 'R' 'U' 'R' 'L']\n",
      " ['U' 'U' 'U' 'L' 'U' 'D' 'R' 'R' 'R' 'D']\n",
      " ['L' 'L' 'D' 'D' 'D' 'R' 'R' 'D' 'D' 'L']]\n",
      "Plot showing direction of best action and average q value\n"
     ]
    },
    {
     "data": {
      "image/png": "[encoded data removed]",
      "text/plain": [
       "<Figure size 432x288 with 1 Axes>"
      ]
     },
     "metadata": {
      "needs_background": "light"
     },
     "output_type": "display_data"
    },
    {
     "name": "stdout",
     "output_type": "stream",
     "text": [
      "Average q value\n",
      " [[ -1  -1  -1  -2  -2  -2  -2 -17  -2  -2]\n",
      " [ -1  -1  -1  -1   2  -2 -16   2 -14  -2]\n",
      " [ -1  -1   2   2   2  -2  -2 -12  -3  -3]\n",
      " [ -2  -2  -1   2  -3  -3  -3  -3  -3  -3]\n",
      " [ -2  -2 -14  -3  -3  -3  -3  -3  -8  -3]\n",
      " [ -2 -17   2 -17  -3  -3  -3 -21   2 -21]\n",
      " [ -3  -3 -21  -3  -3  -3  -3  -3 -18  -3]\n",
      " [ -3  -3  -3  -3  -4  -3  -3  -3  -3  -3]\n",
      " [ -3  -3  -3  -3  -3  -3  -3  -3  -3  -3]\n",
      " [ -3  -3  -3  -3  -3  -3  -3  -3  -3  -3]]\n",
      "Direction of best action\n",
      " [['L' 'U' 'R' 'D' 'U' 'U' 'R' 'U' 'D' 'L']\n",
      " ['L' 'L' 'D' 'U' '' 'R' 'D' '' 'D' 'U']\n",
      " ['U' 'R' '' '' '' 'U' 'L' 'D' 'U' 'R']\n",
      " ['L' 'U' 'U' '' 'L' 'U' 'U' 'L' 'U' 'U']\n",
      " ['U' 'D' 'U' 'U' 'R' 'R' 'L' 'D' 'L' 'U']\n",
      " ['U' 'L' '' 'R' 'U' 'L' 'R' 'U' '' 'R']\n",
      " ['D' 'U' 'R' 'R' 'U' 'R' 'R' 'U' 'L' 'R']\n",
      " ['L' 'U' 'U' 'U' 'L' 'U' 'L' 'L' 'U' 'D']\n",
      " ['R' 'U' 'R' 'R' 'R' 'L' 'R' 'R' 'U' 'D']\n",
      " ['R' 'D' 'R' 'D' 'R' 'R' 'L' 'R' 'U' 'R']]\n",
      "Plot showing direction of best action and average q value\n"
     ]
    },
    {
     "data": {
      "image/png": "[encoded data removed]",
      "text/plain": [
       "<Figure size 432x288 with 1 Axes>"
      ]
     },
     "metadata": {
      "needs_background": "light"
     },
     "output_type": "display_data"
    },
    {
     "name": "stdout",
     "output_type": "stream",
     "text": [
      "Average q value\n",
      " [[-1 -1  0  0  0  0  0 -5  1  1]\n",
      " [-1 -1 -1  0  2  0 -3  2  0  1]\n",
      " [ 0 -1  0  2  2  1  3 -2  2  1]\n",
      " [ 0  0  0  2  1  5 13  9 12  1]\n",
      " [ 0  0 -4  9 14 20 30 37 28  4]\n",
      " [ 0 -8  2 -7  1  4 14 27  2  1]\n",
      " [ 0  0 -5  0  1  1  1  8 13  1]\n",
      " [ 0  0  0  0  1  1  1  2  5  1]\n",
      " [ 0  0  0  0  1  1  1  1  1  1]\n",
      " [ 0  0  0  0  1  1  1  1  1  1]]\n",
      "Direction of best action\n",
      " [['D' 'U' 'D' 'U' 'R' 'R' 'D' 'U' 'R' 'D']\n",
      " ['R' 'U' 'D' 'L' '' 'R' 'D' '' 'R' 'U']\n",
      " ['R' 'L' 'D' '' '' 'D' 'D' 'D' 'D' 'D']\n",
      " ['L' 'L' 'D' '' 'D' 'R' 'D' 'D' 'D' 'L']\n",
      " ['R' 'R' 'R' 'R' 'R' 'R' 'R' 'R' 'D' 'L']\n",
      " ['D' 'D' '' 'D' 'R' 'R' 'R' 'R' '' 'D']\n",
      " ['D' 'D' 'L' 'L' 'R' 'U' 'D' 'U' 'U' 'R']\n",
      " ['U' 'L' 'D' 'L' 'L' 'R' 'R' 'R' 'U' 'R']\n",
      " ['D' 'D' 'D' 'R' 'R' 'U' 'L' 'L' 'U' 'R']\n",
      " ['R' 'R' 'D' 'U' 'L' 'L' 'U' 'R' 'U' 'D']]\n",
      "Plot showing direction of best action and average q value\n"
     ]
    },
    {
     "data": {
      "image/png": "[encoded data removed]",
      "text/plain": [
       "<Figure size 432x288 with 1 Axes>"
      ]
     },
     "metadata": {
      "needs_background": "light"
     },
     "output_type": "display_data"
    }
   ],
   "source": [
    "visualize_q(q_fcn_rm3_no_crm)"
   ]
  },
  {
   "cell_type": "code",
   "execution_count": null,
   "id": "42b981cb",
   "metadata": {},
   "outputs": [],
   "source": []
  }
 ],
 "metadata": {
  "kernelspec": {
   "display_name": "Python 3 (ipykernel)",
   "language": "python",
   "name": "python3"
  },
  "language_info": {
   "codemirror_mode": {
    "name": "ipython",
    "version": 3
   },
   "file_extension": ".py",
   "mimetype": "text/x-python",
   "name": "python",
   "nbconvert_exporter": "python",
   "pygments_lexer": "ipython3",
   "version": "3.10.9"
  }
 },
 "nbformat": 4,
 "nbformat_minor": 5
}
