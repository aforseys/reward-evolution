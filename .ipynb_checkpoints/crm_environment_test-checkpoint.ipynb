{
 "cells": [
  {
   "cell_type": "code",
   "execution_count": 10,
   "id": "5e0c1a3e",
   "metadata": {},
   "outputs": [],
   "source": [
    "import reward_machines\n",
    "import gymnasium \n",
    "from reward_machines.envs.grids.grid_world import *\n",
    "from reward_machines.reward_machines.rm_environment import RewardMachineWrapper"
   ]
  },
  {
   "cell_type": "code",
   "execution_count": 11,
   "id": "558027f3",
   "metadata": {
    "scrolled": false
   },
   "outputs": [],
   "source": [
    "#Make RMEnv (debugging in environment_test.ipynb)\n",
    "rm_files = [\"./reward_machines/envs/grids/reward_machines/rm2.txt\"]\n",
    "test_env = ObstacleRMEnv(rm_files)\n",
    "\n",
    "#Make RMEnv wrapper that generates counterfactual experience for each step\n",
    "test_crm_env = RewardMachineWrapper(test_env, add_crm=True, gamma=1.0)"
   ]
  },
  {
   "cell_type": "code",
   "execution_count": 12,
   "id": "4f0be1b5",
   "metadata": {
    "scrolled": true
   },
   "outputs": [
    {
     "data": {
      "text/plain": [
       "(array([4, 6, 2, 2, 0, 0, 1, 4, 1, 0]),\n",
       " {'distance_B': 10.0, 'distance_C': 4.0, 'distance_hazard': 5.0})"
      ]
     },
     "execution_count": 12,
     "metadata": {},
     "output_type": "execute_result"
    }
   ],
   "source": [
    "#Reset environment places agent back at starting location (0,0)\n",
    "#and back at initial state in RM\n",
    "test_crm_env.reset()"
   ]
  },
  {
   "cell_type": "code",
   "execution_count": 13,
   "id": "ce9e2b60",
   "metadata": {
    "scrolled": false
   },
   "outputs": [],
   "source": [
    "#Locations given by (col, row)\n",
    "#(0,0) index in upper left corner rm_obs, rm_rew, done, info\n",
    "\n",
    "#Agent actions that can be taken are:  \n",
    "#0: right (+1 col)\n",
    "#1: down  (+1 row)\n",
    "#2: left  (-1 col)\n",
    "#3: up    (-1 row)\n",
    "\n",
    "#e.g.\n",
    "#test_env.step(0) #takes a step right\n",
    "\n",
    "#Taking a step out of bounds will not change the location\n",
    "#e.g.\n",
    "#test_env.step(3) #will not change location (going up sends out of bounds)\n",
    "\n",
    "#Map is 8x8 with obstacles at: \n",
    "#(3,2), (3,3), (4,2), (4,1)\n",
    "\n",
    "#TO DO: make so can pass in map file that is processed into grid env* \n"
   ]
  },
  {
   "cell_type": "code",
   "execution_count": 14,
   "id": "fa60a879",
   "metadata": {},
   "outputs": [],
   "source": [
    "# #Good chunk of code for debugging to see what states and transitions exist in RM: \n",
    "# rm = test_crm_env.reward_machines[0]\n",
    "# rm_states = rm.U\n",
    "# for state in rm_states:\n",
    "#     print(rm.delta_u[state]) #prints all transition possibilities (trigger propositions and resulting state) "
   ]
  },
  {
   "cell_type": "code",
   "execution_count": 15,
   "id": "78aeae55",
   "metadata": {
    "scrolled": true
   },
   "outputs": [
    {
     "name": "stdout",
     "output_type": "stream",
     "text": [
      "[(array([4, 6, 2, 2, 0, 0, 1, 4, 1, 0]), 3, -30.0, array([4, 6, 2, 2, 0, 0, 1, 4, 1, 0]), False), (array([4, 6, 2, 2, 0, 0, 1, 4, 0, 1]), 3, -1, array([4, 6, 2, 2, 0, 0, 1, 4, 0, 1]), False)]\n"
     ]
    }
   ],
   "source": [
    "#Test what experience is generated after initialization (Success!)\n",
    "#Reset environment\n",
    "test_crm_env.reset()\n",
    "#Take a step (doesn't allow movement)\n",
    "rm_obs, rm_rew, done, info = test_crm_env.step(3)\n",
    "\n",
    "#Here would expect experience to be generated for both states in RM \n",
    "#with different rewards (based on their differing reward functions)\n",
    "print(info[\"crm-experience\"])"
   ]
  },
  {
   "cell_type": "code",
   "execution_count": 16,
   "id": "e53f98c8",
   "metadata": {
    "scrolled": true
   },
   "outputs": [
    {
     "name": "stdout",
     "output_type": "stream",
     "text": [
      "[(array([4, 6, 2, 2, 5, 6, 1, 4, 1, 0]), 2, -1, array([4, 6, 2, 2, 4, 6, 1, 4, 0, 1]), False), (array([4, 6, 2, 2, 5, 6, 1, 4, 0, 1]), 2, -1, array([4, 6, 2, 2, 4, 6, 1, 4, 0, 1]), False)]\n",
      "2\n",
      "[(array([4, 6, 2, 2, 4, 6, 1, 4, 0, 1]), 2, -1, array([4, 6, 2, 2, 3, 6, 1, 4, 0, 1]), False)]\n",
      "1\n"
     ]
    }
   ],
   "source": [
    "#Test what experience is generated after reaching first target (Success!)\n",
    "\n",
    "#resent env and travel to first target \n",
    "test_crm_env.reset() \n",
    "test_crm_env.step(0)\n",
    "test_crm_env.step(0)\n",
    "test_crm_env.step(0)\n",
    "test_crm_env.step(0)\n",
    "test_crm_env.step(0)\n",
    "test_crm_env.step(1)\n",
    "test_crm_env.step(1)\n",
    "test_crm_env.step(1)\n",
    "test_crm_env.step(1)\n",
    "test_crm_env.step(1)\n",
    "test_crm_env.step(1)\n",
    "#last step to reach first target, expect to see experience calculated for first state \n",
    "#will both be negative 1 (because state 1 transition to state 2 has reward of -1, and state 2 has -1 as constant)\n",
    "rm_obs, rm_rew, done, info = test_crm_env.step(2) \n",
    "print(info[\"crm-experience\"])\n",
    "print(len(info[\"crm-experience\"]))\n",
    "\n",
    "#one step after traveling to first target, don't expect experience to be calculated for first state\n",
    "#(because no longer reachable given the sequence of actions performed thus far)\n",
    "rm_obs, rm_rew, done, info = test_crm_env.step(2)\n",
    "print(info[\"crm-experience\"])\n",
    "print(len(info[\"crm-experience\"]))\n"
   ]
  },
  {
   "cell_type": "code",
   "execution_count": 17,
   "id": "c1ca68d3",
   "metadata": {
    "scrolled": false
   },
   "outputs": [
    {
     "name": "stdout",
     "output_type": "stream",
     "text": [
      "[(array([4, 6, 2, 2, 1, 3, 1, 4, 1, 0]), 1, -100, array([4, 6, 2, 2, 1, 4, 1, 4, 0, 0]), True), (array([4, 6, 2, 2, 1, 3, 1, 4, 0, 1]), 1, -100, array([4, 6, 2, 2, 1, 4, 1, 4, 0, 0]), True)]\n"
     ]
    }
   ],
   "source": [
    "#Test traveling to hazard (BUG - was in rm2.txt)\n",
    "\n",
    "#Reset environment and travel to hazard\n",
    "test_crm_env.reset()\n",
    "test_crm_env.step(0)\n",
    "test_crm_env.step(1)\n",
    "test_crm_env.step(1)\n",
    "test_crm_env.step(1)\n",
    "\n",
    "#rm_obs, rm_new, done, info = test_crm_env.step(1)\n",
    "# for entry in info[\"crm-experience\"]:\n",
    "#     rm_obs,action,rm_rew,rm_next_obs,done = entry\n",
    "#     print(rm_next_obs)\n",
    "\n",
    "#print(info[\"crm_experience\"])\n",
    "\n",
    "# print(\"current rm state is\", test_crm_env.env.reward_machines[0].current_u_id)\n",
    "# print(\"available state transitions are\", test_crm_env.env.reward)\n",
    "\n",
    "rm_obs, rm_new, done, info = test_crm_env.step(1)\n",
    "\n",
    "#Here would expect to learn over both states that transition to hazard with this action in this state \n",
    "print(info[\"crm-experience\"])"
   ]
  },
  {
   "cell_type": "code",
   "execution_count": 18,
   "id": "e7c7ed3f",
   "metadata": {},
   "outputs": [
    {
     "name": "stdout",
     "output_type": "stream",
     "text": [
      "[(array([4, 6, 2, 2, 2, 1, 1, 4, 1, 0]), 1, -100, array([4, 6, 2, 2, 2, 2, 1, 4, 0, 0]), True), (array([4, 6, 2, 2, 2, 1, 1, 4, 0, 1]), 1, 100, array([4, 6, 2, 2, 2, 2, 1, 4, 0, 0]), True)]\n"
     ]
    }
   ],
   "source": [
    "#Test traveling to target 2 before target 1 (Success!)\n",
    "\n",
    "#Reset environment \n",
    "test_crm_env.reset()\n",
    "#Travel to second target\n",
    "test_crm_env.step(0)\n",
    "test_crm_env.step(0)\n",
    "test_crm_env.step(1)\n",
    "rm_obs, rm_new, done, info = test_crm_env.step(1)\n",
    "\n",
    "#While first state will terminate negatively, should learn that second state terminates positively \n",
    "print(info[\"crm-experience\"])"
   ]
  }
 ],
 "metadata": {
  "kernelspec": {
   "display_name": "RMEnv",
   "language": "python",
   "name": "rmenv"
  },
  "language_info": {
   "codemirror_mode": {
    "name": "ipython",
    "version": 3
   },
   "file_extension": ".py",
   "mimetype": "text/x-python",
   "name": "python",
   "nbconvert_exporter": "python",
   "pygments_lexer": "ipython3",
   "version": "3.10.9"
  }
 },
 "nbformat": 4,
 "nbformat_minor": 5
}
