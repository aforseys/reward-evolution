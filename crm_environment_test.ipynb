{
 "cells": [
  {
   "cell_type": "code",
   "execution_count": 1,
   "id": "5e0c1a3e",
   "metadata": {},
   "outputs": [],
   "source": [
    "import reward_machines\n",
    "import gymnasium \n",
    "from reward_machines.envs.grids.grid_world import *\n",
    "from reward_machines.reward_machines.rm_environment import RewardMachineWrapper"
   ]
  },
  {
   "cell_type": "code",
   "execution_count": 26,
   "id": "558027f3",
   "metadata": {
    "scrolled": false
   },
   "outputs": [
    {
     "name": "stdout",
     "output_type": "stream",
     "text": [
      "8\n",
      "[['a' '.' '.' '.' '.' '.' '.' '.']\n",
      " ['.' '.' '.' '.' 'X' '.' '.' '.']\n",
      " ['.' '.' 'C' 'X' 'X' '.' '.' '.']\n",
      " ['.' '.' '.' 'X' '.' '.' '.' '.']\n",
      " ['.' 'H' '.' '.' '.' '.' '.' '.']\n",
      " ['.' '.' '.' '.' '.' '.' '.' '.']\n",
      " ['.' '.' '.' '.' 'B' '.' '.' '.']\n",
      " ['.' '.' '.' '.' '.' '.' '.' '.']]\n"
     ]
    }
   ],
   "source": [
    "#Make RMEnv (debugging in environment_test.ipynb)\n",
    "rm_files = [\"./reward_machines/envs/grids/reward_machines/rm2_one_feature.txt\"]\n",
    "map_file = \"./reward_machines/envs/grids/maps/map1.txt\"\n",
    "\n",
    "test_env = ObstacleRMEnv(rm_files, map_file)\n",
    "\n",
    "#Make RMEnv wrapper that generates counterfactual experience for each step\n",
    "test_crm_env = RewardMachineWrapper(test_env, add_crm=True, gamma=1.0)"
   ]
  },
  {
   "cell_type": "code",
   "execution_count": 27,
   "id": "4f0be1b5",
   "metadata": {
    "scrolled": true
   },
   "outputs": [
    {
     "data": {
      "text/plain": [
       "([Dict('features': Dict('a_loc': Box(0, 7, (2,), int64), 'c_loc': Box(0, 7, (2,), int64), 'b_loc': Box(0, 7, (2,), int64), 'h_loc': Box(0, 7, (2,), int64)), 'rm-state': Box(0, 1, (2,), uint8)),\n",
       "  {'features': {'a_loc': array([0, 0]),\n",
       "    'c_loc': array([2, 2]),\n",
       "    'b_loc': array([6, 4]),\n",
       "    'h_loc': [array([4, 1])]},\n",
       "   'rm-state': array([1., 0.])}],\n",
       " {'distance_B': 10.0})"
      ]
     },
     "execution_count": 27,
     "metadata": {},
     "output_type": "execute_result"
    }
   ],
   "source": [
    "#Reset environment places agent back at starting location (0,0)\n",
    "#and back at initial state in RM\n",
    "test_crm_env.reset()"
   ]
  },
  {
   "cell_type": "code",
   "execution_count": 28,
   "id": "ce9e2b60",
   "metadata": {
    "scrolled": false
   },
   "outputs": [],
   "source": [
    "#Locations given by (row,col)\n",
    "#(0,0) index in upper left corner rm_obs, rm_rew, done, info\n",
    "\n",
    "#Agent actions that can be taken are:  \n",
    "#0: right (+1 col)\n",
    "#1: down  (+1 row)\n",
    "#2: left  (-1 col)\n",
    "#3: up    (-1 row)\n",
    "\n",
    "#e.g.\n",
    "#test_env.step(0) #takes a step right\n",
    "\n",
    "#Taking a step out of bounds will not change the location\n",
    "#e.g.\n",
    "#test_env.step(3) #will not change location (going up sends out of bounds)\n",
    "\n",
    "#Map is passed in map \n"
   ]
  },
  {
   "cell_type": "code",
   "execution_count": 29,
   "id": "fa60a879",
   "metadata": {},
   "outputs": [],
   "source": [
    "# #Good chunk of code for debugging to see what states and transitions exist in RM: \n",
    "# rm = test_crm_env.reward_machines[0]\n",
    "# rm_states = rm.U\n",
    "# for state in rm_states:\n",
    "#     print(rm.delta_u[state]) #prints all transition possibilities (trigger propositions and resulting state) "
   ]
  },
  {
   "cell_type": "code",
   "execution_count": 30,
   "id": "78aeae55",
   "metadata": {
    "scrolled": true
   },
   "outputs": [
    {
     "name": "stdout",
     "output_type": "stream",
     "text": [
      "[([Dict('features': Dict('a_loc': Box(0, 7, (2,), int64), 'c_loc': Box(0, 7, (2,), int64), 'b_loc': Box(0, 7, (2,), int64), 'h_loc': Box(0, 7, (2,), int64)), 'rm-state': Box(0, 1, (2,), uint8)), {'features': {'a_loc': array([0, 0]), 'c_loc': array([2, 2]), 'b_loc': array([6, 4]), 'h_loc': [array([4, 1])]}, 'rm-state': array([1., 0.])}], 3, -1.0, [Dict('features': Dict('a_loc': Box(0, 7, (2,), int64), 'c_loc': Box(0, 7, (2,), int64), 'b_loc': Box(0, 7, (2,), int64), 'h_loc': Box(0, 7, (2,), int64)), 'rm-state': Box(0, 1, (2,), uint8)), {'features': {'a_loc': array([0, 0]), 'c_loc': array([2, 2]), 'b_loc': array([6, 4]), 'h_loc': [array([4, 1])]}, 'rm-state': array([1., 0.])}], False), ([Dict('features': Dict('a_loc': Box(0, 7, (2,), int64), 'c_loc': Box(0, 7, (2,), int64), 'b_loc': Box(0, 7, (2,), int64), 'h_loc': Box(0, 7, (2,), int64)), 'rm-state': Box(0, 1, (2,), uint8)), {'features': {'a_loc': array([0, 0]), 'c_loc': array([2, 2]), 'b_loc': array([6, 4]), 'h_loc': [array([4, 1])]}, 'rm-state': array([0., 1.])}], 3, -1, [Dict('features': Dict('a_loc': Box(0, 7, (2,), int64), 'c_loc': Box(0, 7, (2,), int64), 'b_loc': Box(0, 7, (2,), int64), 'h_loc': Box(0, 7, (2,), int64)), 'rm-state': Box(0, 1, (2,), uint8)), {'features': {'a_loc': array([0, 0]), 'c_loc': array([2, 2]), 'b_loc': array([6, 4]), 'h_loc': [array([4, 1])]}, 'rm-state': array([0., 1.])}], False)]\n",
      "2\n"
     ]
    }
   ],
   "source": [
    "#Test what experience is generated after initialization (Success!)\n",
    "#Reset environment\n",
    "test_crm_env.reset()\n",
    "#Take a step (doesn't allow movement)\n",
    "rm_obs, rm_rew, done, info = test_crm_env.step(3)\n",
    "\n",
    "#Here would expect experience to be generated for both states in RM \n",
    "#with different rewards (based on their differing reward functions)\n",
    "print(info[\"crm-experience\"])\n",
    "print(len(info[\"crm-experience\"]))"
   ]
  },
  {
   "cell_type": "code",
   "execution_count": 31,
   "id": "e53f98c8",
   "metadata": {
    "scrolled": true
   },
   "outputs": [
    {
     "name": "stdout",
     "output_type": "stream",
     "text": [
      "[([Dict('features': Dict('a_loc': Box(0, 7, (2,), int64), 'c_loc': Box(0, 7, (2,), int64), 'b_loc': Box(0, 7, (2,), int64), 'h_loc': Box(0, 7, (2,), int64)), 'rm-state': Box(0, 1, (2,), uint8)), {'features': {'a_loc': array([6, 5]), 'c_loc': array([2, 2]), 'b_loc': array([6, 4]), 'h_loc': [array([4, 1])]}, 'rm-state': array([1., 0.])}], 2, -1, [Dict('features': Dict('a_loc': Box(0, 7, (2,), int64), 'c_loc': Box(0, 7, (2,), int64), 'b_loc': Box(0, 7, (2,), int64), 'h_loc': Box(0, 7, (2,), int64)), 'rm-state': Box(0, 1, (2,), uint8)), {'features': {'a_loc': array([6, 4]), 'c_loc': array([2, 2]), 'b_loc': array([6, 4]), 'h_loc': [array([4, 1])]}, 'rm-state': array([0., 1.])}], False), ([Dict('features': Dict('a_loc': Box(0, 7, (2,), int64), 'c_loc': Box(0, 7, (2,), int64), 'b_loc': Box(0, 7, (2,), int64), 'h_loc': Box(0, 7, (2,), int64)), 'rm-state': Box(0, 1, (2,), uint8)), {'features': {'a_loc': array([6, 5]), 'c_loc': array([2, 2]), 'b_loc': array([6, 4]), 'h_loc': [array([4, 1])]}, 'rm-state': array([0., 1.])}], 2, -1, [Dict('features': Dict('a_loc': Box(0, 7, (2,), int64), 'c_loc': Box(0, 7, (2,), int64), 'b_loc': Box(0, 7, (2,), int64), 'h_loc': Box(0, 7, (2,), int64)), 'rm-state': Box(0, 1, (2,), uint8)), {'features': {'a_loc': array([6, 4]), 'c_loc': array([2, 2]), 'b_loc': array([6, 4]), 'h_loc': [array([4, 1])]}, 'rm-state': array([0., 1.])}], False)]\n",
      "2\n",
      "[([Dict('features': Dict('a_loc': Box(0, 7, (2,), int64), 'c_loc': Box(0, 7, (2,), int64), 'b_loc': Box(0, 7, (2,), int64), 'h_loc': Box(0, 7, (2,), int64)), 'rm-state': Box(0, 1, (2,), uint8)), {'features': {'a_loc': array([6, 4]), 'c_loc': array([2, 2]), 'b_loc': array([6, 4]), 'h_loc': [array([4, 1])]}, 'rm-state': array([0., 1.])}], 2, -1, [Dict('features': Dict('a_loc': Box(0, 7, (2,), int64), 'c_loc': Box(0, 7, (2,), int64), 'b_loc': Box(0, 7, (2,), int64), 'h_loc': Box(0, 7, (2,), int64)), 'rm-state': Box(0, 1, (2,), uint8)), {'features': {'a_loc': array([6, 3]), 'c_loc': array([2, 2]), 'b_loc': array([6, 4]), 'h_loc': [array([4, 1])]}, 'rm-state': array([0., 1.])}], False)]\n",
      "1\n"
     ]
    }
   ],
   "source": [
    "#Test what experience is generated after reaching first target (Success!)\n",
    "\n",
    "#resent env and travel to first target \n",
    "test_crm_env.reset() \n",
    "test_crm_env.step(0)\n",
    "test_crm_env.step(0)\n",
    "test_crm_env.step(0)\n",
    "test_crm_env.step(0)\n",
    "test_crm_env.step(0)\n",
    "test_crm_env.step(1)\n",
    "test_crm_env.step(1)\n",
    "test_crm_env.step(1)\n",
    "test_crm_env.step(1)\n",
    "test_crm_env.step(1)\n",
    "test_crm_env.step(1)\n",
    "#last step to reach first target, expect to see experience calculated for first state \n",
    "#will both be negative 1 (because state 1 transition to state 2 has reward of -1, and state 2 has -1 as constant)\n",
    "rm_obs, rm_rew, done, info = test_crm_env.step(2) \n",
    "print(info[\"crm-experience\"])\n",
    "print(len(info[\"crm-experience\"]))\n",
    "\n",
    "#one step after traveling to first target, don't expect experience to be calculated for first state\n",
    "#(because no longer reachable given the sequence of actions performed thus far)\n",
    "rm_obs, rm_rew, done, info = test_crm_env.step(2)\n",
    "print(info[\"crm-experience\"])\n",
    "print(len(info[\"crm-experience\"]))\n"
   ]
  },
  {
   "cell_type": "code",
   "execution_count": 32,
   "id": "c1ca68d3",
   "metadata": {
    "scrolled": false
   },
   "outputs": [
    {
     "name": "stdout",
     "output_type": "stream",
     "text": [
      "True\n",
      "[([Dict('features': Dict('a_loc': Box(0, 7, (2,), int64), 'c_loc': Box(0, 7, (2,), int64), 'b_loc': Box(0, 7, (2,), int64), 'h_loc': Box(0, 7, (2,), int64)), 'rm-state': Box(0, 1, (2,), uint8)), {'features': {'a_loc': array([3, 1]), 'c_loc': array([2, 2]), 'b_loc': array([6, 4]), 'h_loc': [array([4, 1])]}, 'rm-state': array([1., 0.])}], 1, -100, [Dict('features': Dict('a_loc': Box(0, 7, (2,), int64), 'c_loc': Box(0, 7, (2,), int64), 'b_loc': Box(0, 7, (2,), int64), 'h_loc': Box(0, 7, (2,), int64)), 'rm-state': Box(0, 1, (2,), uint8)), {'features': {'a_loc': array([4, 1]), 'c_loc': array([2, 2]), 'b_loc': array([6, 4]), 'h_loc': [array([4, 1])]}, 'rm-state': array([0., 0.])}], True), ([Dict('features': Dict('a_loc': Box(0, 7, (2,), int64), 'c_loc': Box(0, 7, (2,), int64), 'b_loc': Box(0, 7, (2,), int64), 'h_loc': Box(0, 7, (2,), int64)), 'rm-state': Box(0, 1, (2,), uint8)), {'features': {'a_loc': array([3, 1]), 'c_loc': array([2, 2]), 'b_loc': array([6, 4]), 'h_loc': [array([4, 1])]}, 'rm-state': array([0., 1.])}], 1, -100, [Dict('features': Dict('a_loc': Box(0, 7, (2,), int64), 'c_loc': Box(0, 7, (2,), int64), 'b_loc': Box(0, 7, (2,), int64), 'h_loc': Box(0, 7, (2,), int64)), 'rm-state': Box(0, 1, (2,), uint8)), {'features': {'a_loc': array([4, 1]), 'c_loc': array([2, 2]), 'b_loc': array([6, 4]), 'h_loc': [array([4, 1])]}, 'rm-state': array([0., 0.])}], True)]\n",
      "2\n"
     ]
    }
   ],
   "source": [
    "#Test traveling to hazard \n",
    "\n",
    "#Reset environment and travel to hazard\n",
    "test_crm_env.reset()\n",
    "test_crm_env.step(0)\n",
    "test_crm_env.step(1)\n",
    "test_crm_env.step(1)\n",
    "test_crm_env.step(1)\n",
    "\n",
    "#rm_obs, rm_new, done, info = test_crm_env.step(1)\n",
    "# for entry in info[\"crm-experience\"]:\n",
    "#     rm_obs,action,rm_rew,rm_next_obs,done = entry\n",
    "#     print(rm_next_obs)\n",
    "\n",
    "#print(info[\"crm_experience\"])\n",
    "\n",
    "# print(\"current rm state is\", test_crm_env.env.reward_machines[0].current_u_id)\n",
    "# print(\"available state transitions are\", test_crm_env.env.reward)\n",
    "\n",
    "rm_obs, rm_new, done, info = test_crm_env.step(1)\n",
    "print(done)\n",
    "\n",
    "#Here would expect to learn over both states that transition to hazard with this action in this state \n",
    "print(info[\"crm-experience\"])\n",
    "print(len(info[\"crm-experience\"]))"
   ]
  },
  {
   "cell_type": "code",
   "execution_count": 33,
   "id": "e7c7ed3f",
   "metadata": {},
   "outputs": [
    {
     "name": "stdout",
     "output_type": "stream",
     "text": [
      "[([Dict('features': Dict('a_loc': Box(0, 7, (2,), int64), 'c_loc': Box(0, 7, (2,), int64), 'b_loc': Box(0, 7, (2,), int64), 'h_loc': Box(0, 7, (2,), int64)), 'rm-state': Box(0, 1, (2,), uint8)), {'features': {'a_loc': array([1, 2]), 'c_loc': array([2, 2]), 'b_loc': array([6, 4]), 'h_loc': [array([4, 1])]}, 'rm-state': array([1., 0.])}], 1, -100, [Dict('features': Dict('a_loc': Box(0, 7, (2,), int64), 'c_loc': Box(0, 7, (2,), int64), 'b_loc': Box(0, 7, (2,), int64), 'h_loc': Box(0, 7, (2,), int64)), 'rm-state': Box(0, 1, (2,), uint8)), {'features': {'a_loc': array([2, 2]), 'c_loc': array([2, 2]), 'b_loc': array([6, 4]), 'h_loc': [array([4, 1])]}, 'rm-state': array([0., 0.])}], True), ([Dict('features': Dict('a_loc': Box(0, 7, (2,), int64), 'c_loc': Box(0, 7, (2,), int64), 'b_loc': Box(0, 7, (2,), int64), 'h_loc': Box(0, 7, (2,), int64)), 'rm-state': Box(0, 1, (2,), uint8)), {'features': {'a_loc': array([1, 2]), 'c_loc': array([2, 2]), 'b_loc': array([6, 4]), 'h_loc': [array([4, 1])]}, 'rm-state': array([0., 1.])}], 1, 100, [Dict('features': Dict('a_loc': Box(0, 7, (2,), int64), 'c_loc': Box(0, 7, (2,), int64), 'b_loc': Box(0, 7, (2,), int64), 'h_loc': Box(0, 7, (2,), int64)), 'rm-state': Box(0, 1, (2,), uint8)), {'features': {'a_loc': array([2, 2]), 'c_loc': array([2, 2]), 'b_loc': array([6, 4]), 'h_loc': [array([4, 1])]}, 'rm-state': array([0., 0.])}], True)]\n"
     ]
    }
   ],
   "source": [
    "#Test traveling to target 2 before target 1 (Success!)\n",
    "\n",
    "#Reset environment \n",
    "test_crm_env.reset()\n",
    "#Travel to second target\n",
    "test_crm_env.step(0)\n",
    "test_crm_env.step(0)\n",
    "test_crm_env.step(1)\n",
    "rm_obs, rm_new, done, info = test_crm_env.step(1)\n",
    "\n",
    "#While first state will terminate negatively, should learn that second state terminates positively \n",
    "print(info[\"crm-experience\"])"
   ]
  },
  {
   "cell_type": "code",
   "execution_count": 2,
   "id": "df66d2a9",
   "metadata": {},
   "outputs": [
    {
     "name": "stdout",
     "output_type": "stream",
     "text": [
      "5\n",
      "[['a' '.' '.' '.' '.']\n",
      " ['.' '.' '.' '.' '.']\n",
      " ['.' '.' '.' '.' '.']\n",
      " ['.' '.' '.' '.' '.']\n",
      " ['.' '.' 'B' '.' '.']]\n"
     ]
    }
   ],
   "source": [
    "#Make RMEnv (debugging in environment_test.ipynb)\n",
    "rm_files = [\"./reward_machines/envs/grids/reward_machines/rm0.txt\"]\n",
    "map_file = \"./reward_machines/envs/grids/maps/map0.txt\"\n",
    "test_env = ObstacleRMEnv(rm_files, map_file)\n",
    "\n",
    "#Make RMEnv wrapper that generates counterfactual experience for each step\n",
    "test_crm_env = RewardMachineWrapper(test_env, add_crm=True, gamma=1.0)"
   ]
  },
  {
   "cell_type": "code",
   "execution_count": 3,
   "id": "7e550dbb",
   "metadata": {},
   "outputs": [
    {
     "data": {
      "text/plain": [
       "([Dict('features': Dict('a_loc': Box(0, 4, (2,), int64), 'b_loc': Box(0, 4, (2,), int64)), 'rm-state': Box(0, 1, (1,), uint8)),\n",
       "  {'features': {'a_loc': array([0, 0]), 'b_loc': array([4, 2])},\n",
       "   'rm-state': array([1.])}],\n",
       " {'distance_B': 6.0})"
      ]
     },
     "execution_count": 3,
     "metadata": {},
     "output_type": "execute_result"
    }
   ],
   "source": [
    "test_crm_env.reset()"
   ]
  },
  {
   "cell_type": "code",
   "execution_count": 4,
   "id": "815f397f",
   "metadata": {
    "scrolled": true
   },
   "outputs": [
    {
     "data": {
      "text/plain": [
       "([Dict('features': Dict('a_loc': Box(0, 4, (2,), int64), 'b_loc': Box(0, 4, (2,), int64)), 'rm-state': Box(0, 1, (1,), uint8)),\n",
       "  {'features': {'a_loc': array([0, 1]), 'b_loc': array([4, 2])},\n",
       "   'rm-state': array([1.])}],\n",
       " -1,\n",
       " False,\n",
       " {'distance_B': 5.0,\n",
       "  'crm-experience': [([Dict('features': Dict('a_loc': Box(0, 4, (2,), int64), 'b_loc': Box(0, 4, (2,), int64)), 'rm-state': Box(0, 1, (1,), uint8)),\n",
       "     {'features': {'a_loc': array([0, 0]), 'b_loc': array([4, 2])},\n",
       "      'rm-state': array([1.])}],\n",
       "    0,\n",
       "    -1,\n",
       "    [Dict('features': Dict('a_loc': Box(0, 4, (2,), int64), 'b_loc': Box(0, 4, (2,), int64)), 'rm-state': Box(0, 1, (1,), uint8)),\n",
       "     {'features': {'a_loc': array([0, 1]), 'b_loc': array([4, 2])},\n",
       "      'rm-state': array([1.])}],\n",
       "    False)]})"
      ]
     },
     "execution_count": 4,
     "metadata": {},
     "output_type": "execute_result"
    }
   ],
   "source": [
    "test_crm_env.step(0)"
   ]
  },
  {
   "cell_type": "code",
   "execution_count": 5,
   "id": "518cbd54",
   "metadata": {},
   "outputs": [
    {
     "data": {
      "text/plain": [
       "([Dict('features': Dict('a_loc': Box(0, 4, (2,), int64), 'b_loc': Box(0, 4, (2,), int64)), 'rm-state': Box(0, 1, (1,), uint8)),\n",
       "  {'features': {'a_loc': array([0, 2]), 'b_loc': array([4, 2])},\n",
       "   'rm-state': array([1.])}],\n",
       " -1,\n",
       " False,\n",
       " {'distance_B': 4.0,\n",
       "  'crm-experience': [([Dict('features': Dict('a_loc': Box(0, 4, (2,), int64), 'b_loc': Box(0, 4, (2,), int64)), 'rm-state': Box(0, 1, (1,), uint8)),\n",
       "     {'features': {'a_loc': array([0, 1]), 'b_loc': array([4, 2])},\n",
       "      'rm-state': array([1.])}],\n",
       "    0,\n",
       "    -1,\n",
       "    [Dict('features': Dict('a_loc': Box(0, 4, (2,), int64), 'b_loc': Box(0, 4, (2,), int64)), 'rm-state': Box(0, 1, (1,), uint8)),\n",
       "     {'features': {'a_loc': array([0, 2]), 'b_loc': array([4, 2])},\n",
       "      'rm-state': array([1.])}],\n",
       "    False)]})"
      ]
     },
     "execution_count": 5,
     "metadata": {},
     "output_type": "execute_result"
    }
   ],
   "source": [
    "test_crm_env.step(0)"
   ]
  },
  {
   "cell_type": "code",
   "execution_count": null,
   "id": "52c653a2",
   "metadata": {},
   "outputs": [],
   "source": []
  }
 ],
 "metadata": {
  "kernelspec": {
   "display_name": "RMEnv",
   "language": "python",
   "name": "rmenv"
  },
  "language_info": {
   "codemirror_mode": {
    "name": "ipython",
    "version": 3
   },
   "file_extension": ".py",
   "mimetype": "text/x-python",
   "name": "python",
   "nbconvert_exporter": "python",
   "pygments_lexer": "ipython3",
   "version": "3.10.9"
  }
 },
 "nbformat": 4,
 "nbformat_minor": 5
}
